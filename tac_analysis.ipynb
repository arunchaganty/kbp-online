{
 "cells": [
  {
   "cell_type": "markdown",
   "metadata": {},
   "source": [
    "# Analysis of TAC KBP 2015 submissions"
   ]
  },
  {
   "cell_type": "code",
   "execution_count": 3,
   "metadata": {
    "collapsed": false
   },
   "outputs": [
    {
     "name": "stdout",
     "output_type": "stream",
     "text": [
      "The autoreload extension is already loaded. To reload it, use:\n",
      "  %reload_ext autoreload\n"
     ]
    }
   ],
   "source": [
    "%load_ext autoreload\n",
    "%autoreload 2"
   ]
  },
  {
   "cell_type": "code",
   "execution_count": 4,
   "metadata": {
    "collapsed": false
   },
   "outputs": [],
   "source": [
    "# imports\n",
    "import os\n",
    "from collections import Counter, defaultdict\n",
    "\n",
    "from tqdm import tqdm\n",
    "from kbpo.util import Provenance, EvaluationEntry, OutputEntry\n",
    "from kbpo.jupyter_util import to_table\n",
    "\n",
    "OUTPUT_DIR=\"data/KBP2015_Cold_Start_Slot-Filling_Evaluation_Results_2016-03-31/corrected_runs/\"\n",
    "GOLD_FILE=\"data/KBP2015_Cold_Start_Slot-Filling_Evaluation_Results_2016-03-31/SF_aux_files/batch_00_05_poolc.assessed.fqec\"\n",
    "QUERYSET=\"data/KBP2015_Cold_Start_Slot-Filling_Evaluation_Results_2016-03-31/SF_aux_files/batch_00_05_queryids.v3.0.txt\""
   ]
  },
  {
   "cell_type": "code",
   "execution_count": 5,
   "metadata": {
    "collapsed": false
   },
   "outputs": [],
   "source": [
    "# Construct a map of (a) the queries that were evaluated and \n",
    "# (b) the mapping from specific query entrypoints to the common query entity.\n",
    "Q = {}\n",
    "with open(QUERYSET) as f:\n",
    "    for line in f:\n",
    "        fields = line.split()\n",
    "        if len(fields) != 2: # this is the case for a few queries that were only partially assessed.\n",
    "            pass\n",
    "        else:\n",
    "            ldc_query, cssf_query = fields\n",
    "            Q[cssf_query] = ldc_query"
   ]
  },
  {
   "cell_type": "code",
   "execution_count": 6,
   "metadata": {
    "collapsed": false,
    "scrolled": true
   },
   "outputs": [
    {
     "name": "stderr",
     "output_type": "stream",
     "text": [
      "363391it [00:06, 58652.65it/s]"
     ]
    },
    {
     "name": "stdout",
     "output_type": "stream",
     "text": [
      "Loaded 83562 evaluation entries\n"
     ]
    },
    {
     "name": "stderr",
     "output_type": "stream",
     "text": [
      "\n"
     ]
    }
   ],
   "source": [
    "# Open an read files\n",
    "evaluation_data = []\n",
    "with open(GOLD_FILE) as f:\n",
    "    for line in tqdm(f):\n",
    "        entry = EvaluationEntry.from_line(line)\n",
    "        if entry.query_id in Q:\n",
    "            evaluation_data.append(entry)\n",
    "print(\"Loaded {} evaluation entries\".format(len(evaluation_data)))"
   ]
  },
  {
   "cell_type": "code",
   "execution_count": 7,
   "metadata": {
    "collapsed": false
   },
   "outputs": [
    {
     "name": "stderr",
     "output_type": "stream",
     "text": [
      "100%|██████████| 71/71 [00:32<00:00,  3.96it/s]"
     ]
    },
    {
     "name": "stdout",
     "output_type": "stream",
     "text": [
      "Loaded 140385 output entries from 71 systems.\n"
     ]
    },
    {
     "name": "stderr",
     "output_type": "stream",
     "text": [
      "\n"
     ]
    }
   ],
   "source": [
    "output_data = []\n",
    "for fname in tqdm(os.listdir(OUTPUT_DIR)):\n",
    "    if not fname.endswith('.txt'): continue\n",
    "    with open(os.path.join(OUTPUT_DIR, fname)) as f:\n",
    "        for line in f:\n",
    "            entry = OutputEntry.from_line(line)\n",
    "            if entry.query_id in Q:\n",
    "                output_data.append(entry)\n",
    "print(\"Loaded {} output entries from {} systems.\".format(len(output_data), sum(1 for d in os.listdir(OUTPUT_DIR) if d.endswith('.txt'))))"
   ]
  },
  {
   "cell_type": "markdown",
   "metadata": {},
   "source": [
    "## Basic statistics of evaluation data"
   ]
  },
  {
   "cell_type": "code",
   "execution_count": 8,
   "metadata": {
    "collapsed": false
   },
   "outputs": [],
   "source": [
    "def p2k(provs):\n",
    "    \"\"\"Converts a provenance string into a key\"\"\"\n",
    "    return tuple(map(str, provs))\n",
    "def k(entry):\n",
    "    \"\"\"Key for both evaluation entries and output entries, based on their entity id, slot value and provenance.\"\"\"\n",
    "    return (entry.query_id,entry.slot_value,p2k(entry.slot_provenances),p2k(entry.relation_provenances))\n",
    "def kk(entry):\n",
    "    \"\"\"Key for LDC queries without provenance\"\"\"\n",
    "    return (Q[entry.query_id],entry.slot_value)\n",
    "def k2kk(key):\n",
    "    return (Q[key[0]], key[1])"
   ]
  },
  {
   "cell_type": "markdown",
   "metadata": {},
   "source": [
    "### Class label distribution aggregated across systems\n",
    "(Note: 'C' is correct and 'W' is incorrect. 'X' is \"inexact\" and is scored to be 'wrong'.)"
   ]
  },
  {
   "cell_type": "code",
   "execution_count": 9,
   "metadata": {
    "collapsed": false
   },
   "outputs": [
    {
     "data": {
      "text/html": [
       "<table><thead><tr><th>label</th><th>count</th><th>%</th></tr></thead><tr><td>*</td><td>83562</td><td>1.0</td></tr><tr><td>C</td><td>20442</td><td>0.2446327277949307</td></tr><tr><td>W</td><td>59582</td><td>0.7130274526698739</td></tr><tr><td>X</td><td>3538</td><td>0.04233981953519542</td></tr></table>"
      ],
      "text/plain": [
       "<IPython.core.display.HTML object>"
      ]
     },
     "metadata": {},
     "output_type": "display_data"
    }
   ],
   "source": [
    "labels = Counter()\n",
    "for entry in evaluation_data:\n",
    "    labels[entry.slot_value_label] +=1\n",
    "\n",
    "labels[\"*\"] = len(evaluation_data)\n",
    "tbl = [(lbl, cnt, cnt/len(evaluation_data)) for lbl, cnt in labels.items()]\n",
    "\n",
    "to_table(sorted(tbl, key=lambda r:r[0]), cols=\"label count %\".split())"
   ]
  },
  {
   "cell_type": "markdown",
   "metadata": {},
   "source": [
    "### Class label distribution after collapsing output using key, aggregated across systems \n",
    "In order to match output of systems with the evaluation data, we have an imperfect key to compare the two, namely the query id, relation, slot value and provenance strings. This shows that the difference between using the key function `k` and not is minimal."
   ]
  },
  {
   "cell_type": "code",
   "execution_count": 10,
   "metadata": {
    "collapsed": false
   },
   "outputs": [
    {
     "data": {
      "text/html": [
       "<table><thead><tr><th>label</th><th>count</th><th>%</th></tr></thead><tr><td>*</td><td>83368</td><td>1.0</td></tr><tr><td>C</td><td>20317</td><td>0.24370261971020055</td></tr><tr><td>W</td><td>59533</td><td>0.7140989348431053</td></tr><tr><td>X</td><td>3518</td><td>0.042198445446694176</td></tr></table>"
      ],
      "text/plain": [
       "<IPython.core.display.HTML object>"
      ]
     },
     "metadata": {},
     "output_type": "display_data"
    }
   ],
   "source": [
    "evaluation_data_ = {}\n",
    "for entry in evaluation_data:\n",
    "    evaluation_data_[k(entry)] = entry\n",
    "evaluation_data_ = list(evaluation_data_.values())\n",
    "\n",
    "labels = Counter()\n",
    "for entry in evaluation_data_:\n",
    "    labels[entry.slot_value_label] +=1\n",
    "\n",
    "labels[\"*\"] = len(evaluation_data_)\n",
    "tbl = [(lbl, cnt, cnt/len(evaluation_data_)) for lbl, cnt in labels.items()]\n",
    "\n",
    "to_table(sorted(tbl, key=lambda r:r[0]), cols=\"label count %\".split())"
   ]
  },
  {
   "cell_type": "markdown",
   "metadata": {},
   "source": [
    "## How many lines of output are reported by each team?"
   ]
  },
  {
   "cell_type": "markdown",
   "metadata": {},
   "source": [
    "First, we construct an index over the gold output labels."
   ]
  },
  {
   "cell_type": "code",
   "execution_count": 11,
   "metadata": {
    "collapsed": false,
    "scrolled": true
   },
   "outputs": [
    {
     "name": "stdout",
     "output_type": "stream",
     "text": [
      "Building index over gold output answers\n",
      "Intermediate output\n"
     ]
    },
    {
     "data": {
      "text/html": [
       "<table><thead><tr><th>label</th><th>count</th></tr></thead><tr><td>False</td><td>63051</td></tr><tr><td>True</td><td>20317</td></tr></table>"
      ],
      "text/plain": [
       "<IPython.core.display.HTML object>"
      ]
     },
     "metadata": {},
     "output_type": "display_data"
    },
    {
     "name": "stdout",
     "output_type": "stream",
     "text": [
      "Removing overlaps\n",
      "C \\ !C: 0\n"
     ]
    },
    {
     "data": {
      "text/html": [
       "<table><thead><tr><th>label</th><th>count</th></tr></thead><tr><td>False</td><td>63051</td></tr><tr><td>True</td><td>20317</td></tr></table>"
      ],
      "text/plain": [
       "<IPython.core.display.HTML object>"
      ]
     },
     "metadata": {},
     "output_type": "display_data"
    }
   ],
   "source": [
    "print(\"Building index over gold output answers\")\n",
    "gold_labels = defaultdict(set)\n",
    "for entry in evaluation_data_:\n",
    "    gold_labels[entry.slot_value_label == \"C\"].add(k(entry))\n",
    "\n",
    "print(\"Intermediate output\")\n",
    "to_table([(lbl, len(ks)) for lbl, ks in gold_labels.items()], cols=\"label count\".split())\n",
    "print(\"Removing overlaps\")\n",
    "print(\"C \\ !C: {}\".format(len(gold_labels[True].intersection(gold_labels[False]))))\n",
    "gold_labels[False].difference_update(gold_labels[True])\n",
    "to_table([(lbl, len(ks)) for lbl, ks in gold_labels.items()], cols=\"label count\".split())"
   ]
  },
  {
   "cell_type": "code",
   "execution_count": 12,
   "metadata": {
    "collapsed": false
   },
   "outputs": [],
   "source": [
    "# Build per system output\n",
    "per_system_output = defaultdict(set)\n",
    "for entry in output_data:\n",
    "    per_system_output[entry.run_id].add(k(entry))\n",
    "\n",
    "# restricted to correct entries.\n",
    "per_system_true_output = defaultdict(set)\n",
    "for run_id, vs in per_system_output.items():\n",
    "    per_system_true_output[run_id] = vs.intersection(gold_labels[True])"
   ]
  },
  {
   "cell_type": "markdown",
   "metadata": {},
   "source": [
    "This table summarizes the output produced by each team.\n",
    "\n",
    "Note that we are only looking at assessed queries, so all unassessed % should be 0."
   ]
  },
  {
   "cell_type": "code",
   "execution_count": 13,
   "metadata": {
    "collapsed": false,
    "scrolled": true
   },
   "outputs": [
    {
     "data": {
      "text/html": [
       "<table><thead><tr><th>run_id</th><th>correct</th><th>incorrect</th><th>evaluated</th><th>unassessed</th><th>missing</th><th>total</th><th>prec%</th><th>rec%</th><th>unass%</th></tr></thead><tr><td>KB_BBN5</td><td>1447</td><td>1707</td><td>3154</td><td>0</td><td>18870</td><td>3154</td><td>45.88</td><td>7.12</td><td>0.00</td></tr><tr><td>SF_BUPT_PRIS2</td><td>324</td><td>2279</td><td>2603</td><td>0</td><td>19993</td><td>2603</td><td>12.45</td><td>1.59</td><td>0.00</td></tr><tr><td>KB_BBN3</td><td>1560</td><td>1975</td><td>3535</td><td>0</td><td>18757</td><td>3535</td><td>44.13</td><td>7.68</td><td>0.00</td></tr><tr><td>SF_CIS1</td><td>527</td><td>441</td><td>968</td><td>0</td><td>19790</td><td>968</td><td>54.44</td><td>2.59</td><td>0.00</td></tr><tr><td>KB_NYU5</td><td>698</td><td>617</td><td>1315</td><td>0</td><td>19619</td><td>1315</td><td>53.08</td><td>3.44</td><td>0.00</td></tr><tr><td>KB_Stanford2</td><td>1148</td><td>2816</td><td>3964</td><td>0</td><td>19169</td><td>3964</td><td>28.96</td><td>5.65</td><td>0.00</td></tr><tr><td>SF_CIS3</td><td>1110</td><td>2960</td><td>4070</td><td>0</td><td>19207</td><td>4070</td><td>27.27</td><td>5.46</td><td>0.00</td></tr><tr><td>SF_MSIIPL_THU5</td><td>44</td><td>575</td><td>619</td><td>0</td><td>20273</td><td>619</td><td>7.11</td><td>0.22</td><td>0.00</td></tr><tr><td>SF_Stanford1</td><td>1046</td><td>1017</td><td>2063</td><td>0</td><td>19271</td><td>2063</td><td>50.70</td><td>5.15</td><td>0.00</td></tr><tr><td>KB_ICTCAS_OKN1</td><td>26</td><td>43</td><td>69</td><td>0</td><td>20291</td><td>69</td><td>37.68</td><td>0.13</td><td>0.00</td></tr><tr><td>SF_Stanford4</td><td>748</td><td>439</td><td>1187</td><td>0</td><td>19569</td><td>1187</td><td>63.02</td><td>3.68</td><td>0.00</td></tr><tr><td>SF_UGENT_IBCN1</td><td>1081</td><td>2085</td><td>3166</td><td>0</td><td>19236</td><td>3166</td><td>34.14</td><td>5.32</td><td>0.00</td></tr><tr><td>SF_UGENT_IBCN3</td><td>1092</td><td>2268</td><td>3360</td><td>0</td><td>19225</td><td>3360</td><td>32.50</td><td>5.37</td><td>0.00</td></tr><tr><td>KB_hltcoe4</td><td>1102</td><td>1181</td><td>2283</td><td>0</td><td>19215</td><td>2283</td><td>48.27</td><td>5.42</td><td>0.00</td></tr><tr><td>SF_UMass_IESL4</td><td>705</td><td>1255</td><td>1960</td><td>0</td><td>19612</td><td>1960</td><td>35.97</td><td>3.47</td><td>0.00</td></tr><tr><td>SF_BUPT_PRIS1</td><td>707</td><td>2381</td><td>3088</td><td>0</td><td>19610</td><td>3088</td><td>22.90</td><td>3.48</td><td>0.00</td></tr><tr><td>SF_CMUML3</td><td>18</td><td>14</td><td>32</td><td>0</td><td>20299</td><td>32</td><td>56.25</td><td>0.09</td><td>0.00</td></tr><tr><td>SF_UMass_IESL5</td><td>774</td><td>1734</td><td>2508</td><td>0</td><td>19543</td><td>2508</td><td>30.86</td><td>3.81</td><td>0.00</td></tr><tr><td>KB_NYU1</td><td>736</td><td>972</td><td>1708</td><td>0</td><td>19581</td><td>1708</td><td>43.09</td><td>3.62</td><td>0.00</td></tr><tr><td>SF_UMass_IESL2</td><td>915</td><td>3645</td><td>4560</td><td>0</td><td>19402</td><td>4560</td><td>20.07</td><td>4.50</td><td>0.00</td></tr><tr><td>KB_hltcoe2</td><td>1080</td><td>1167</td><td>2247</td><td>0</td><td>19237</td><td>2247</td><td>48.06</td><td>5.32</td><td>0.00</td></tr><tr><td>KB_BBN1</td><td>1569</td><td>1732</td><td>3301</td><td>0</td><td>18748</td><td>3301</td><td>47.53</td><td>7.72</td><td>0.00</td></tr><tr><td>KB_hltcoe5</td><td>1112</td><td>1156</td><td>2268</td><td>0</td><td>19205</td><td>2268</td><td>49.03</td><td>5.47</td><td>0.00</td></tr><tr><td>KB_Stanford1</td><td>652</td><td>484</td><td>1136</td><td>0</td><td>19665</td><td>1136</td><td>57.39</td><td>3.21</td><td>0.00</td></tr><tr><td>KB_UMass_IESL3</td><td>552</td><td>1706</td><td>2258</td><td>0</td><td>19765</td><td>2258</td><td>24.45</td><td>2.72</td><td>0.00</td></tr><tr><td>KB_BBN4</td><td>1738</td><td>3022</td><td>4760</td><td>0</td><td>18579</td><td>4760</td><td>36.51</td><td>8.55</td><td>0.00</td></tr><tr><td>SF_Stanford3</td><td>1349</td><td>2575</td><td>3924</td><td>0</td><td>18968</td><td>3924</td><td>34.38</td><td>6.64</td><td>0.00</td></tr><tr><td>SF_CIS5</td><td>942</td><td>4832</td><td>5774</td><td>0</td><td>19375</td><td>5774</td><td>16.31</td><td>4.64</td><td>0.00</td></tr><tr><td>SF_UMass_IESL3</td><td>835</td><td>2253</td><td>3088</td><td>0</td><td>19482</td><td>3088</td><td>27.04</td><td>4.11</td><td>0.00</td></tr><tr><td>SF_CIS4</td><td>1027</td><td>2448</td><td>3475</td><td>0</td><td>19290</td><td>3475</td><td>29.55</td><td>5.05</td><td>0.00</td></tr><tr><td>SF_Stanford2</td><td>777</td><td>481</td><td>1258</td><td>0</td><td>19540</td><td>1258</td><td>61.76</td><td>3.82</td><td>0.00</td></tr><tr><td>SF_CIS2</td><td>1021</td><td>2443</td><td>3464</td><td>0</td><td>19296</td><td>3464</td><td>29.47</td><td>5.03</td><td>0.00</td></tr><tr><td>KB_NYU3</td><td>659</td><td>525</td><td>1184</td><td>0</td><td>19658</td><td>1184</td><td>55.66</td><td>3.24</td><td>0.00</td></tr><tr><td>SF_UWashington3</td><td>235</td><td>230</td><td>465</td><td>0</td><td>20082</td><td>465</td><td>50.54</td><td>1.16</td><td>0.00</td></tr><tr><td>SF_UWashington4</td><td>185</td><td>288</td><td>473</td><td>0</td><td>20132</td><td>473</td><td>39.11</td><td>0.91</td><td>0.00</td></tr><tr><td>SF_MSIIPL_THU4</td><td>22</td><td>684</td><td>706</td><td>0</td><td>20295</td><td>706</td><td>3.12</td><td>0.11</td><td>0.00</td></tr><tr><td>SF_IITD_20151</td><td>141</td><td>100</td><td>241</td><td>0</td><td>20176</td><td>241</td><td>58.51</td><td>0.69</td><td>0.00</td></tr><tr><td>SF_StaRAI20153</td><td>251</td><td>2035</td><td>2286</td><td>0</td><td>20066</td><td>2286</td><td>10.98</td><td>1.24</td><td>0.00</td></tr><tr><td>KB_UMass_IESL4</td><td>608</td><td>1712</td><td>2320</td><td>0</td><td>19709</td><td>2320</td><td>26.21</td><td>2.99</td><td>0.00</td></tr><tr><td>SF_StaRAI20155</td><td>96</td><td>754</td><td>850</td><td>0</td><td>20221</td><td>850</td><td>11.29</td><td>0.47</td><td>0.00</td></tr><tr><td>KB_ICTCAS_OKN3</td><td>42</td><td>52</td><td>94</td><td>0</td><td>20275</td><td>94</td><td>44.68</td><td>0.21</td><td>0.00</td></tr><tr><td>SF_BUPT_PRIS4</td><td>324</td><td>2279</td><td>2603</td><td>0</td><td>19993</td><td>2603</td><td>12.45</td><td>1.59</td><td>0.00</td></tr><tr><td>SF_UGENT_IBCN4</td><td>1212</td><td>3184</td><td>4396</td><td>0</td><td>19105</td><td>4396</td><td>27.57</td><td>5.97</td><td>0.00</td></tr><tr><td>SF_StaRAI20151</td><td>253</td><td>2010</td><td>2263</td><td>0</td><td>20064</td><td>2263</td><td>11.18</td><td>1.25</td><td>0.00</td></tr><tr><td>KB_UMass_IESL1</td><td>734</td><td>1985</td><td>2719</td><td>0</td><td>19583</td><td>2719</td><td>27.00</td><td>3.61</td><td>0.00</td></tr><tr><td>SF_UWashington2</td><td>145</td><td>148</td><td>293</td><td>0</td><td>20172</td><td>293</td><td>49.49</td><td>0.71</td><td>0.00</td></tr><tr><td>SF_CMUML1</td><td>30</td><td>18</td><td>48</td><td>0</td><td>20287</td><td>48</td><td>62.50</td><td>0.15</td><td>0.00</td></tr><tr><td>SF_StaRAI20154</td><td>118</td><td>1022</td><td>1140</td><td>0</td><td>20199</td><td>1140</td><td>10.35</td><td>0.58</td><td>0.00</td></tr><tr><td>SF_UTAustin1</td><td>323</td><td>340</td><td>663</td><td>0</td><td>19994</td><td>663</td><td>48.72</td><td>1.59</td><td>0.00</td></tr><tr><td>SF_CMUML2</td><td>30</td><td>19</td><td>49</td><td>0</td><td>20287</td><td>49</td><td>61.22</td><td>0.15</td><td>0.00</td></tr><tr><td>SF_BUPT_PRIS5</td><td>324</td><td>2279</td><td>2603</td><td>0</td><td>19993</td><td>2603</td><td>12.45</td><td>1.59</td><td>0.00</td></tr><tr><td>SF_StaRAI20152</td><td>102</td><td>1047</td><td>1149</td><td>0</td><td>20215</td><td>1149</td><td>8.88</td><td>0.50</td><td>0.00</td></tr><tr><td>KB_BBN2</td><td>1413</td><td>1404</td><td>2817</td><td>0</td><td>18904</td><td>2817</td><td>50.16</td><td>6.95</td><td>0.00</td></tr><tr><td>SF_MSIIPL_THU2</td><td>273</td><td>1010</td><td>1283</td><td>0</td><td>20044</td><td>1283</td><td>21.28</td><td>1.34</td><td>0.00</td></tr><tr><td>KB_NYU2</td><td>698</td><td>615</td><td>1313</td><td>0</td><td>19619</td><td>1313</td><td>53.16</td><td>3.44</td><td>0.00</td></tr><tr><td>SF_ZJU_DCD_SF1</td><td>254</td><td>1743</td><td>1997</td><td>0</td><td>20063</td><td>1997</td><td>12.72</td><td>1.25</td><td>0.00</td></tr><tr><td>KB_hltcoe3</td><td>868</td><td>847</td><td>1715</td><td>0</td><td>19449</td><td>1715</td><td>50.61</td><td>4.27</td><td>0.00</td></tr><tr><td>KB_ICTCAS_OKN2</td><td>3</td><td>1</td><td>4</td><td>0</td><td>20314</td><td>4</td><td>75.00</td><td>0.01</td><td>0.00</td></tr><tr><td>SF_UMass_IESL1</td><td>849</td><td>1763</td><td>2612</td><td>0</td><td>19468</td><td>2612</td><td>32.50</td><td>4.18</td><td>0.00</td></tr><tr><td>SF_MSIIPL_THU1</td><td>299</td><td>1239</td><td>1538</td><td>0</td><td>20018</td><td>1538</td><td>19.44</td><td>1.47</td><td>0.00</td></tr><tr><td>KB_NYU4</td><td>736</td><td>977</td><td>1713</td><td>0</td><td>19581</td><td>1713</td><td>42.97</td><td>3.62</td><td>0.00</td></tr><tr><td>KB_SAFT_ISI1</td><td>173</td><td>211</td><td>384</td><td>0</td><td>20144</td><td>384</td><td>45.05</td><td>0.85</td><td>0.00</td></tr><tr><td>KB_UMass_IESL2</td><td>809</td><td>2719</td><td>3528</td><td>0</td><td>19508</td><td>3528</td><td>22.93</td><td>3.98</td><td>0.00</td></tr><tr><td>SF_UGENT_IBCN2</td><td>1081</td><td>2085</td><td>3166</td><td>0</td><td>19236</td><td>3166</td><td>34.14</td><td>5.32</td><td>0.00</td></tr><tr><td>KB_hltcoe1</td><td>826</td><td>775</td><td>1601</td><td>0</td><td>19491</td><td>1601</td><td>51.59</td><td>4.07</td><td>0.00</td></tr><tr><td>SF_UWashington1</td><td>485</td><td>621</td><td>1106</td><td>0</td><td>19832</td><td>1106</td><td>43.85</td><td>2.39</td><td>0.00</td></tr><tr><td>LDC</td><td>1048</td><td>174</td><td>1222</td><td>0</td><td>19269</td><td>1222</td><td>85.76</td><td>5.16</td><td>0.00</td></tr><tr><td>SF_BUPT_PRIS3</td><td>705</td><td>2383</td><td>3088</td><td>0</td><td>19612</td><td>3088</td><td>22.83</td><td>3.47</td><td>0.00</td></tr><tr><td>SF_ZJU_DCD_SF2</td><td>178</td><td>1403</td><td>1581</td><td>0</td><td>20139</td><td>1581</td><td>11.26</td><td>0.88</td><td>0.00</td></tr><tr><td>KB_ICTCAS_OKN4</td><td>5</td><td>2</td><td>7</td><td>0</td><td>20312</td><td>7</td><td>71.43</td><td>0.02</td><td>0.00</td></tr></table>"
      ],
      "text/plain": [
       "<IPython.core.display.HTML object>"
      ]
     },
     "metadata": {},
     "output_type": "display_data"
    }
   ],
   "source": [
    "tbl = []\n",
    "for run_id, vs in per_system_output.items():\n",
    "    total = len(vs)\n",
    "    correct = len(vs.intersection(gold_labels[True]))\n",
    "    incorrect = len(vs.intersection(gold_labels[False]))\n",
    "    evaluated = correct + incorrect\n",
    "    unassessed = len(vs) - evaluated\n",
    "    missing = len(gold_labels[True].difference(vs))\n",
    "    tbl.append([run_id, correct, incorrect, evaluated, unassessed, missing, total])\n",
    "tbl = [(run_id, c, i, e, u, m, t, \"%.2f\"%(e and 100*c/e), \"%.2f\"%((c+m) and 100*c/(c+m)), \"%.2f\"%(t and 100*u/t)) for (run_id, c, i, e, u, m, t) in tbl]\n",
    "to_table(tbl, cols=\"run_id correct incorrect evaluated unassessed missing total prec% rec% unass%\".split())"
   ]
  },
  {
   "cell_type": "code",
   "execution_count": 14,
   "metadata": {
    "collapsed": false
   },
   "outputs": [
    {
     "name": "stdout",
     "output_type": "stream",
     "text": [
      "Total quantity of system output:  60799\n",
      "Total quantity of gold output:  20317\n",
      "Total quantity of gold output not produced by systems:  4387\n"
     ]
    }
   ],
   "source": [
    "everything = set()\n",
    "for x in per_system_output.values(): \n",
    "    everything.update(x)\n",
    "print(\"Total quantity of system output: \", len(everything))\n",
    "print(\"Total quantity of gold output: \", len(gold_labels[True]))\n",
    "# These are true labels that aren't predicted by any system -- not sure why they exist.\n",
    "print(\"Total quantity of gold output not produced by systems: \", len(gold_labels[True].difference(everything)))"
   ]
  },
  {
   "cell_type": "markdown",
   "metadata": {},
   "source": [
    "## How much overlap exists between system outputs?"
   ]
  },
  {
   "cell_type": "code",
   "execution_count": 15,
   "metadata": {
    "collapsed": false
   },
   "outputs": [
    {
     "data": {
      "text/html": [
       "<table><thead><tr><th>run_id</th><th>unique</th><th>system</th><th>total</th><th>unique%</th><th>system%</th><th>unique_total%</th></tr></thead><tr><td>KB_BBN5</td><td>727</td><td>3154</td><td>60799</td><td>23.05</td><td> 5</td><td>1.20</td></tr><tr><td>SF_BUPT_PRIS2</td><td>0</td><td>2603</td><td>60799</td><td>0.00</td><td> 4</td><td>0.00</td></tr><tr><td>KB_BBN3</td><td>372</td><td>3535</td><td>60799</td><td>10.52</td><td> 6</td><td>0.61</td></tr><tr><td>SF_CIS1</td><td>0</td><td>968</td><td>60799</td><td>0.00</td><td> 2</td><td>0.00</td></tr><tr><td>KB_NYU5</td><td>3</td><td>1315</td><td>60799</td><td>0.23</td><td> 2</td><td>0.00</td></tr><tr><td>KB_Stanford2</td><td>2753</td><td>3964</td><td>60799</td><td>69.45</td><td> 7</td><td>4.53</td></tr><tr><td>SF_CIS3</td><td>1301</td><td>4070</td><td>60799</td><td>31.97</td><td> 7</td><td>2.14</td></tr><tr><td>SF_MSIIPL_THU5</td><td>338</td><td>619</td><td>60799</td><td>54.60</td><td> 1</td><td>0.56</td></tr><tr><td>SF_Stanford1</td><td>119</td><td>2063</td><td>60799</td><td>5.77</td><td> 3</td><td>0.20</td></tr><tr><td>KB_ICTCAS_OKN1</td><td>31</td><td>69</td><td>60799</td><td>44.93</td><td> 0</td><td>0.05</td></tr><tr><td>SF_Stanford4</td><td>7</td><td>1187</td><td>60799</td><td>0.59</td><td> 2</td><td>0.01</td></tr><tr><td>SF_UGENT_IBCN1</td><td>0</td><td>3166</td><td>60799</td><td>0.00</td><td> 5</td><td>0.00</td></tr><tr><td>SF_UGENT_IBCN3</td><td>0</td><td>3360</td><td>60799</td><td>0.00</td><td> 6</td><td>0.00</td></tr><tr><td>KB_hltcoe4</td><td>96</td><td>2283</td><td>60799</td><td>4.20</td><td> 4</td><td>0.16</td></tr><tr><td>SF_UMass_IESL4</td><td>404</td><td>1960</td><td>60799</td><td>20.61</td><td> 3</td><td>0.66</td></tr><tr><td>SF_BUPT_PRIS1</td><td>38</td><td>3088</td><td>60799</td><td>1.23</td><td> 5</td><td>0.06</td></tr><tr><td>SF_CMUML3</td><td>8</td><td>32</td><td>60799</td><td>25.00</td><td> 0</td><td>0.01</td></tr><tr><td>SF_UMass_IESL5</td><td>102</td><td>2508</td><td>60799</td><td>4.07</td><td> 4</td><td>0.17</td></tr><tr><td>KB_NYU1</td><td>2</td><td>1708</td><td>60799</td><td>0.12</td><td> 3</td><td>0.00</td></tr><tr><td>SF_UMass_IESL2</td><td>2063</td><td>4560</td><td>60799</td><td>45.24</td><td> 8</td><td>3.39</td></tr><tr><td>KB_hltcoe2</td><td>80</td><td>2247</td><td>60799</td><td>3.56</td><td> 4</td><td>0.13</td></tr><tr><td>KB_BBN1</td><td>2</td><td>3301</td><td>60799</td><td>0.06</td><td> 5</td><td>0.00</td></tr><tr><td>KB_hltcoe5</td><td>105</td><td>2268</td><td>60799</td><td>4.63</td><td> 4</td><td>0.17</td></tr><tr><td>KB_Stanford1</td><td>123</td><td>1136</td><td>60799</td><td>10.83</td><td> 2</td><td>0.20</td></tr><tr><td>KB_UMass_IESL3</td><td>0</td><td>2258</td><td>60799</td><td>0.00</td><td> 4</td><td>0.00</td></tr><tr><td>KB_BBN4</td><td>1877</td><td>4760</td><td>60799</td><td>39.43</td><td> 8</td><td>3.09</td></tr><tr><td>SF_Stanford3</td><td>1909</td><td>3924</td><td>60799</td><td>48.65</td><td> 6</td><td>3.14</td></tr><tr><td>SF_CIS5</td><td>3183</td><td>5774</td><td>60799</td><td>55.13</td><td> 9</td><td>5.24</td></tr><tr><td>SF_UMass_IESL3</td><td>1179</td><td>3088</td><td>60799</td><td>38.18</td><td> 5</td><td>1.94</td></tr><tr><td>SF_CIS4</td><td>69</td><td>3475</td><td>60799</td><td>1.99</td><td> 6</td><td>0.11</td></tr><tr><td>SF_Stanford2</td><td>18</td><td>1258</td><td>60799</td><td>1.43</td><td> 2</td><td>0.03</td></tr><tr><td>SF_CIS2</td><td>17</td><td>3464</td><td>60799</td><td>0.49</td><td> 6</td><td>0.03</td></tr><tr><td>KB_NYU3</td><td>16</td><td>1184</td><td>60799</td><td>1.35</td><td> 2</td><td>0.03</td></tr><tr><td>SF_UWashington3</td><td>19</td><td>465</td><td>60799</td><td>4.09</td><td> 1</td><td>0.03</td></tr><tr><td>SF_UWashington4</td><td>106</td><td>473</td><td>60799</td><td>22.41</td><td> 1</td><td>0.17</td></tr><tr><td>SF_MSIIPL_THU4</td><td>425</td><td>706</td><td>60799</td><td>60.20</td><td> 1</td><td>0.70</td></tr><tr><td>SF_IITD_20151</td><td>200</td><td>241</td><td>60799</td><td>82.99</td><td> 0</td><td>0.33</td></tr><tr><td>SF_StaRAI20153</td><td>90</td><td>2286</td><td>60799</td><td>3.94</td><td> 4</td><td>0.15</td></tr><tr><td>KB_UMass_IESL4</td><td>0</td><td>2320</td><td>60799</td><td>0.00</td><td> 4</td><td>0.00</td></tr><tr><td>SF_StaRAI20155</td><td>0</td><td>850</td><td>60799</td><td>0.00</td><td> 1</td><td>0.00</td></tr><tr><td>KB_ICTCAS_OKN3</td><td>56</td><td>94</td><td>60799</td><td>59.57</td><td> 0</td><td>0.09</td></tr><tr><td>SF_BUPT_PRIS4</td><td>0</td><td>2603</td><td>60799</td><td>0.00</td><td> 4</td><td>0.00</td></tr><tr><td>SF_UGENT_IBCN4</td><td>994</td><td>4396</td><td>60799</td><td>22.61</td><td> 7</td><td>1.63</td></tr><tr><td>SF_StaRAI20151</td><td>82</td><td>2263</td><td>60799</td><td>3.62</td><td> 4</td><td>0.13</td></tr><tr><td>KB_UMass_IESL1</td><td>8</td><td>2719</td><td>60799</td><td>0.29</td><td> 4</td><td>0.01</td></tr><tr><td>SF_UWashington2</td><td>0</td><td>293</td><td>60799</td><td>0.00</td><td> 0</td><td>0.00</td></tr><tr><td>SF_CMUML1</td><td>9</td><td>48</td><td>60799</td><td>18.75</td><td> 0</td><td>0.01</td></tr><tr><td>SF_StaRAI20154</td><td>226</td><td>1140</td><td>60799</td><td>19.82</td><td> 2</td><td>0.37</td></tr><tr><td>SF_UTAustin1</td><td>0</td><td>663</td><td>60799</td><td>0.00</td><td> 1</td><td>0.00</td></tr><tr><td>SF_CMUML2</td><td>9</td><td>49</td><td>60799</td><td>18.37</td><td> 0</td><td>0.01</td></tr><tr><td>SF_BUPT_PRIS5</td><td>21</td><td>2603</td><td>60799</td><td>0.81</td><td> 4</td><td>0.03</td></tr><tr><td>SF_StaRAI20152</td><td>815</td><td>1149</td><td>60799</td><td>70.93</td><td> 2</td><td>1.34</td></tr><tr><td>KB_BBN2</td><td>0</td><td>2817</td><td>60799</td><td>0.00</td><td> 5</td><td>0.00</td></tr><tr><td>SF_MSIIPL_THU2</td><td>241</td><td>1283</td><td>60799</td><td>18.78</td><td> 2</td><td>0.40</td></tr><tr><td>KB_NYU2</td><td>0</td><td>1313</td><td>60799</td><td>0.00</td><td> 2</td><td>0.00</td></tr><tr><td>SF_ZJU_DCD_SF1</td><td>1604</td><td>1997</td><td>60799</td><td>80.32</td><td> 3</td><td>2.64</td></tr><tr><td>KB_hltcoe3</td><td>194</td><td>1715</td><td>60799</td><td>11.31</td><td> 3</td><td>0.32</td></tr><tr><td>KB_ICTCAS_OKN2</td><td>1</td><td>4</td><td>60799</td><td>25.00</td><td> 0</td><td>0.00</td></tr><tr><td>SF_UMass_IESL1</td><td>125</td><td>2612</td><td>60799</td><td>4.79</td><td> 4</td><td>0.21</td></tr><tr><td>SF_MSIIPL_THU1</td><td>476</td><td>1538</td><td>60799</td><td>30.95</td><td> 3</td><td>0.78</td></tr><tr><td>KB_NYU4</td><td>3</td><td>1713</td><td>60799</td><td>0.18</td><td> 3</td><td>0.00</td></tr><tr><td>KB_SAFT_ISI1</td><td>359</td><td>384</td><td>60799</td><td>93.49</td><td> 1</td><td>0.59</td></tr><tr><td>KB_UMass_IESL2</td><td>735</td><td>3528</td><td>60799</td><td>20.83</td><td> 6</td><td>1.21</td></tr><tr><td>SF_UGENT_IBCN2</td><td>0</td><td>3166</td><td>60799</td><td>0.00</td><td> 5</td><td>0.00</td></tr><tr><td>KB_hltcoe1</td><td>138</td><td>1601</td><td>60799</td><td>8.62</td><td> 3</td><td>0.23</td></tr><tr><td>SF_UWashington1</td><td>0</td><td>1106</td><td>60799</td><td>0.00</td><td> 2</td><td>0.00</td></tr><tr><td>LDC</td><td>1146</td><td>1222</td><td>60799</td><td>93.78</td><td> 2</td><td>1.88</td></tr><tr><td>SF_BUPT_PRIS3</td><td>38</td><td>3088</td><td>60799</td><td>1.23</td><td> 5</td><td>0.06</td></tr><tr><td>SF_ZJU_DCD_SF2</td><td>1208</td><td>1581</td><td>60799</td><td>76.41</td><td> 3</td><td>1.99</td></tr><tr><td>KB_ICTCAS_OKN4</td><td>3</td><td>7</td><td>60799</td><td>42.86</td><td> 0</td><td>0.00</td></tr></table>"
      ],
      "text/plain": [
       "<IPython.core.display.HTML object>"
      ]
     },
     "metadata": {},
     "output_type": "display_data"
    }
   ],
   "source": [
    "tbl = []\n",
    "for run_id, vs in per_system_output.items():\n",
    "    diff = set(vs)\n",
    "    for run_id_, vs_ in per_system_output.items():\n",
    "        if run_id_ != run_id:\n",
    "            diff.difference_update(vs_)\n",
    "    tbl.append([run_id, len(diff), len(vs), len(everything)])\n",
    "tbl = [(run_id, d, s, t, \"%.2f\"%(100*d/s), \"%2.f\"%(100*s/t), \"%.2f\"%(100*d/t)) for (run_id, d, s, t) in tbl]\n",
    "to_table(tbl, cols=\"run_id unique system total unique% system% unique_total%\".split())"
   ]
  },
  {
   "cell_type": "markdown",
   "metadata": {},
   "source": [
    "## Restricted to correct output"
   ]
  },
  {
   "cell_type": "code",
   "execution_count": 27,
   "metadata": {
    "collapsed": true
   },
   "outputs": [],
   "source": [
    "def get_system_name(name):\n",
    "    return name[:-1].split('_', 1)[-1]"
   ]
  },
  {
   "cell_type": "code",
   "execution_count": 31,
   "metadata": {
    "collapsed": false
   },
   "outputs": [
    {
     "data": {
      "text/html": [
       "<table><thead><tr><th>run_id</th><th>unique</th><th>system</th><th>total</th><th>unique%</th><th>system%</th><th>unique_total%</th></tr></thead><tr><td>KB_BBN1</td><td>1375</td><td>1569</td><td>20317</td><td>87.64</td><td>7.72</td><td>6.77</td></tr><tr><td>KB_BBN2</td><td>1231</td><td>1413</td><td>20317</td><td>87.12</td><td>6.95</td><td>6.06</td></tr><tr><td>KB_BBN3</td><td>1371</td><td>1560</td><td>20317</td><td>87.88</td><td>7.68</td><td>6.75</td></tr><tr><td>KB_BBN4</td><td>1545</td><td>1738</td><td>20317</td><td>88.90</td><td>8.55</td><td>7.60</td></tr><tr><td>KB_BBN5</td><td>1249</td><td>1447</td><td>20317</td><td>86.32</td><td>7.12</td><td>6.15</td></tr><tr><td>KB_ICTCAS_OKN1</td><td>26</td><td>26</td><td>20317</td><td>100.00</td><td>0.13</td><td>0.13</td></tr><tr><td>KB_ICTCAS_OKN2</td><td>3</td><td>3</td><td>20317</td><td>100.00</td><td>0.01</td><td>0.01</td></tr><tr><td>KB_ICTCAS_OKN3</td><td>42</td><td>42</td><td>20317</td><td>100.00</td><td>0.21</td><td>0.21</td></tr><tr><td>KB_ICTCAS_OKN4</td><td>5</td><td>5</td><td>20317</td><td>100.00</td><td>0.02</td><td>0.02</td></tr><tr><td>KB_NYU1</td><td>736</td><td>736</td><td>20317</td><td>100.00</td><td>3.62</td><td>3.62</td></tr><tr><td>KB_NYU2</td><td>698</td><td>698</td><td>20317</td><td>100.00</td><td>3.44</td><td>3.44</td></tr><tr><td>KB_NYU3</td><td>659</td><td>659</td><td>20317</td><td>100.00</td><td>3.24</td><td>3.24</td></tr><tr><td>KB_NYU4</td><td>736</td><td>736</td><td>20317</td><td>100.00</td><td>3.62</td><td>3.62</td></tr><tr><td>KB_NYU5</td><td>698</td><td>698</td><td>20317</td><td>100.00</td><td>3.44</td><td>3.44</td></tr><tr><td>KB_SAFT_ISI1</td><td>151</td><td>173</td><td>20317</td><td>87.28</td><td>0.85</td><td>0.74</td></tr><tr><td>KB_Stanford1</td><td>507</td><td>652</td><td>20317</td><td>77.76</td><td>3.21</td><td>2.50</td></tr><tr><td>KB_Stanford2</td><td>880</td><td>1148</td><td>20317</td><td>76.66</td><td>5.65</td><td>4.33</td></tr><tr><td>KB_UMass_IESL1</td><td>663</td><td>734</td><td>20317</td><td>90.33</td><td>3.61</td><td>3.26</td></tr><tr><td>KB_UMass_IESL2</td><td>730</td><td>809</td><td>20317</td><td>90.23</td><td>3.98</td><td>3.59</td></tr><tr><td>KB_UMass_IESL3</td><td>487</td><td>552</td><td>20317</td><td>88.22</td><td>2.72</td><td>2.40</td></tr><tr><td>KB_UMass_IESL4</td><td>535</td><td>608</td><td>20317</td><td>87.99</td><td>2.99</td><td>2.63</td></tr><tr><td>KB_hltcoe1</td><td>730</td><td>826</td><td>20317</td><td>88.38</td><td>4.07</td><td>3.59</td></tr><tr><td>KB_hltcoe2</td><td>974</td><td>1080</td><td>20317</td><td>90.19</td><td>5.32</td><td>4.79</td></tr><tr><td>KB_hltcoe3</td><td>765</td><td>868</td><td>20317</td><td>88.13</td><td>4.27</td><td>3.77</td></tr><tr><td>KB_hltcoe4</td><td>996</td><td>1102</td><td>20317</td><td>90.38</td><td>5.42</td><td>4.90</td></tr><tr><td>KB_hltcoe5</td><td>1002</td><td>1112</td><td>20317</td><td>90.11</td><td>5.47</td><td>4.93</td></tr><tr><td>LDC</td><td>979</td><td>1048</td><td>20317</td><td>93.42</td><td>5.16</td><td>4.82</td></tr><tr><td>SF_BUPT_PRIS1</td><td>676</td><td>707</td><td>20317</td><td>95.62</td><td>3.48</td><td>3.33</td></tr><tr><td>SF_BUPT_PRIS2</td><td>323</td><td>324</td><td>20317</td><td>99.69</td><td>1.59</td><td>1.59</td></tr><tr><td>SF_BUPT_PRIS3</td><td>674</td><td>705</td><td>20317</td><td>95.60</td><td>3.47</td><td>3.32</td></tr><tr><td>SF_BUPT_PRIS4</td><td>323</td><td>324</td><td>20317</td><td>99.69</td><td>1.59</td><td>1.59</td></tr><tr><td>SF_BUPT_PRIS5</td><td>323</td><td>324</td><td>20317</td><td>99.69</td><td>1.59</td><td>1.59</td></tr><tr><td>SF_CIS1</td><td>486</td><td>527</td><td>20317</td><td>92.22</td><td>2.59</td><td>2.39</td></tr><tr><td>SF_CIS2</td><td>907</td><td>1021</td><td>20317</td><td>88.83</td><td>5.03</td><td>4.46</td></tr><tr><td>SF_CIS3</td><td>991</td><td>1110</td><td>20317</td><td>89.28</td><td>5.46</td><td>4.88</td></tr><tr><td>SF_CIS4</td><td>915</td><td>1027</td><td>20317</td><td>89.09</td><td>5.05</td><td>4.50</td></tr><tr><td>SF_CIS5</td><td>855</td><td>942</td><td>20317</td><td>90.76</td><td>4.64</td><td>4.21</td></tr><tr><td>SF_CMUML1</td><td>23</td><td>30</td><td>20317</td><td>76.67</td><td>0.15</td><td>0.11</td></tr><tr><td>SF_CMUML2</td><td>23</td><td>30</td><td>20317</td><td>76.67</td><td>0.15</td><td>0.11</td></tr><tr><td>SF_CMUML3</td><td>18</td><td>18</td><td>20317</td><td>100.00</td><td>0.09</td><td>0.09</td></tr><tr><td>SF_IITD_20151</td><td>106</td><td>141</td><td>20317</td><td>75.18</td><td>0.69</td><td>0.52</td></tr><tr><td>SF_MSIIPL_THU1</td><td>231</td><td>299</td><td>20317</td><td>77.26</td><td>1.47</td><td>1.14</td></tr><tr><td>SF_MSIIPL_THU2</td><td>215</td><td>273</td><td>20317</td><td>78.75</td><td>1.34</td><td>1.06</td></tr><tr><td>SF_MSIIPL_THU4</td><td>22</td><td>22</td><td>20317</td><td>100.00</td><td>0.11</td><td>0.11</td></tr><tr><td>SF_MSIIPL_THU5</td><td>44</td><td>44</td><td>20317</td><td>100.00</td><td>0.22</td><td>0.22</td></tr><tr><td>SF_StaRAI20151</td><td>253</td><td>253</td><td>20317</td><td>100.00</td><td>1.25</td><td>1.25</td></tr><tr><td>SF_StaRAI20152</td><td>102</td><td>102</td><td>20317</td><td>100.00</td><td>0.50</td><td>0.50</td></tr><tr><td>SF_StaRAI20153</td><td>251</td><td>251</td><td>20317</td><td>100.00</td><td>1.24</td><td>1.24</td></tr><tr><td>SF_StaRAI20154</td><td>118</td><td>118</td><td>20317</td><td>100.00</td><td>0.58</td><td>0.58</td></tr><tr><td>SF_StaRAI20155</td><td>96</td><td>96</td><td>20317</td><td>100.00</td><td>0.47</td><td>0.47</td></tr><tr><td>SF_Stanford1</td><td>723</td><td>1046</td><td>20317</td><td>69.12</td><td>5.15</td><td>3.56</td></tr><tr><td>SF_Stanford2</td><td>585</td><td>777</td><td>20317</td><td>75.29</td><td>3.82</td><td>2.88</td></tr><tr><td>SF_Stanford3</td><td>1062</td><td>1349</td><td>20317</td><td>78.72</td><td>6.64</td><td>5.23</td></tr><tr><td>SF_Stanford4</td><td>556</td><td>748</td><td>20317</td><td>74.33</td><td>3.68</td><td>2.74</td></tr><tr><td>SF_UGENT_IBCN1</td><td>834</td><td>1081</td><td>20317</td><td>77.15</td><td>5.32</td><td>4.10</td></tr><tr><td>SF_UGENT_IBCN2</td><td>834</td><td>1081</td><td>20317</td><td>77.15</td><td>5.32</td><td>4.10</td></tr><tr><td>SF_UGENT_IBCN3</td><td>841</td><td>1092</td><td>20317</td><td>77.01</td><td>5.37</td><td>4.14</td></tr><tr><td>SF_UGENT_IBCN4</td><td>941</td><td>1212</td><td>20317</td><td>77.64</td><td>5.97</td><td>4.63</td></tr><tr><td>SF_UMass_IESL1</td><td>760</td><td>849</td><td>20317</td><td>89.52</td><td>4.18</td><td>3.74</td></tr><tr><td>SF_UMass_IESL2</td><td>821</td><td>915</td><td>20317</td><td>89.73</td><td>4.50</td><td>4.04</td></tr><tr><td>SF_UMass_IESL3</td><td>750</td><td>835</td><td>20317</td><td>89.82</td><td>4.11</td><td>3.69</td></tr><tr><td>SF_UMass_IESL4</td><td>613</td><td>705</td><td>20317</td><td>86.95</td><td>3.47</td><td>3.02</td></tr><tr><td>SF_UMass_IESL5</td><td>686</td><td>774</td><td>20317</td><td>88.63</td><td>3.81</td><td>3.38</td></tr><tr><td>SF_UTAustin1</td><td>0</td><td>323</td><td>20317</td><td>0.00</td><td>1.59</td><td>0.00</td></tr><tr><td>SF_UWashington1</td><td>398</td><td>485</td><td>20317</td><td>82.06</td><td>2.39</td><td>1.96</td></tr><tr><td>SF_UWashington2</td><td>67</td><td>145</td><td>20317</td><td>46.21</td><td>0.71</td><td>0.33</td></tr><tr><td>SF_UWashington3</td><td>226</td><td>235</td><td>20317</td><td>96.17</td><td>1.16</td><td>1.11</td></tr><tr><td>SF_UWashington4</td><td>185</td><td>185</td><td>20317</td><td>100.00</td><td>0.91</td><td>0.91</td></tr><tr><td>SF_ZJU_DCD_SF1</td><td>215</td><td>254</td><td>20317</td><td>84.65</td><td>1.25</td><td>1.06</td></tr><tr><td>SF_ZJU_DCD_SF2</td><td>149</td><td>178</td><td>20317</td><td>83.71</td><td>0.88</td><td>0.73</td></tr><tr><td>total</td><td>38994</td><td>44999</td><td>20317</td><td>86.66</td><td>221.48</td><td>191.93</td></tr></table>"
      ],
      "text/plain": [
       "<IPython.core.display.HTML object>"
      ]
     },
     "metadata": {},
     "output_type": "display_data"
    }
   ],
   "source": [
    "tbl = []\n",
    "for run_id, vs in per_system_true_output.items():\n",
    "    diff = set(vs)\n",
    "    for run_id_, vs_ in per_system_true_output.items():\n",
    "        if get_system_name(run_id_) != get_system_name(run_id): # the systems need to be distinct\n",
    "            diff.difference_update(vs_)\n",
    "    tbl.append([run_id, len(diff), len(vs)])\n",
    "tbl.append([\"total\", sum(d for _, d, _ in tbl), sum(s for _, _, s in tbl)])\n",
    "t = len(gold_labels[True])\n",
    "tbl = [(run_id, d, s, t, \"%.2f\"%(100*d/s), \"%.2f\"%(100*s/t), \"%.2f\"%(100*d/t)) for (run_id, d, s) in tbl]\n",
    "to_table(sorted(tbl), cols=\"run_id unique system total unique% system% unique_total%\".split())"
   ]
  },
  {
   "cell_type": "markdown",
   "metadata": {},
   "source": [
    "## Aggregating by query id instead of entry point"
   ]
  },
  {
   "cell_type": "code",
   "execution_count": 17,
   "metadata": {
    "collapsed": false
   },
   "outputs": [
    {
     "name": "stdout",
     "output_type": "stream",
     "text": [
      "Building index over gold output answers\n",
      "Intermediate output\n"
     ]
    },
    {
     "data": {
      "text/html": [
       "<table><thead><tr><th>label</th><th>count</th></tr></thead><tr><td>False</td><td>10400</td></tr><tr><td>True</td><td>1415</td></tr></table>"
      ],
      "text/plain": [
       "<IPython.core.display.HTML object>"
      ]
     },
     "metadata": {},
     "output_type": "display_data"
    },
    {
     "name": "stdout",
     "output_type": "stream",
     "text": [
      "Removing overlaps\n",
      "C \\ !C: 179\n"
     ]
    },
    {
     "data": {
      "text/html": [
       "<table><thead><tr><th>label</th><th>count</th></tr></thead><tr><td>False</td><td>10221</td></tr><tr><td>True</td><td>1415</td></tr></table>"
      ],
      "text/plain": [
       "<IPython.core.display.HTML object>"
      ]
     },
     "metadata": {},
     "output_type": "display_data"
    }
   ],
   "source": [
    "print(\"Building index over gold output answers\")\n",
    "gold_labels_by_id = defaultdict(set)\n",
    "gold_labels_by_id[True].update(k2kk(key) for key in gold_labels[True])\n",
    "gold_labels_by_id[False].update(k2kk(key) for key in gold_labels[False])\n",
    "\n",
    "print(\"Intermediate output\")\n",
    "to_table([(lbl, len(ks)) for lbl, ks in gold_labels_by_id.items()], cols=\"label count\".split())\n",
    "print(\"Removing overlaps\")\n",
    "print(\"C \\ !C: {}\".format(len(gold_labels_by_id[True].intersection(gold_labels_by_id[False]))))\n",
    "gold_labels_by_id[False].difference_update(gold_labels_by_id[True])\n",
    "to_table([(lbl, len(ks)) for lbl, ks in gold_labels_by_id.items()], cols=\"label count\".split())\n",
    "\n",
    "per_system_true_output_by_id = {}\n",
    "for run_id, vs in per_system_true_output.items():\n",
    "    per_system_true_output_by_id[run_id] = set(k2kk(key) for key in vs)"
   ]
  },
  {
   "cell_type": "code",
   "execution_count": 30,
   "metadata": {
    "collapsed": false
   },
   "outputs": [
    {
     "data": {
      "text/html": [
       "<table><thead><tr><th>run_id</th><th>unique</th><th>system</th><th>total</th><th>unique%</th><th>system%</th><th>unique_total%</th></tr></thead><tr><td>KB_BBN1</td><td>77</td><td>480</td><td>1415</td><td>16.04</td><td>33.92</td><td>5.44</td></tr><tr><td>KB_BBN2</td><td>60</td><td>435</td><td>1415</td><td>13.79</td><td>30.74</td><td>4.24</td></tr><tr><td>KB_BBN3</td><td>82</td><td>479</td><td>1415</td><td>17.12</td><td>33.85</td><td>5.80</td></tr><tr><td>KB_BBN4</td><td>90</td><td>523</td><td>1415</td><td>17.21</td><td>36.96</td><td>6.36</td></tr><tr><td>KB_BBN5</td><td>70</td><td>450</td><td>1415</td><td>15.56</td><td>31.80</td><td>4.95</td></tr><tr><td>KB_ICTCAS_OKN1</td><td>1</td><td>12</td><td>1415</td><td>8.33</td><td>0.85</td><td>0.07</td></tr><tr><td>KB_ICTCAS_OKN2</td><td>0</td><td>3</td><td>1415</td><td>0.00</td><td>0.21</td><td>0.00</td></tr><tr><td>KB_ICTCAS_OKN3</td><td>1</td><td>20</td><td>1415</td><td>5.00</td><td>1.41</td><td>0.07</td></tr><tr><td>KB_ICTCAS_OKN4</td><td>0</td><td>5</td><td>1415</td><td>0.00</td><td>0.35</td><td>0.00</td></tr><tr><td>KB_NYU1</td><td>23</td><td>267</td><td>1415</td><td>8.61</td><td>18.87</td><td>1.63</td></tr><tr><td>KB_NYU2</td><td>22</td><td>243</td><td>1415</td><td>9.05</td><td>17.17</td><td>1.55</td></tr><tr><td>KB_NYU3</td><td>22</td><td>228</td><td>1415</td><td>9.65</td><td>16.11</td><td>1.55</td></tr><tr><td>KB_NYU4</td><td>23</td><td>267</td><td>1415</td><td>8.61</td><td>18.87</td><td>1.63</td></tr><tr><td>KB_NYU5</td><td>22</td><td>243</td><td>1415</td><td>9.05</td><td>17.17</td><td>1.55</td></tr><tr><td>KB_SAFT_ISI1</td><td>4</td><td>86</td><td>1415</td><td>4.65</td><td>6.08</td><td>0.28</td></tr><tr><td>KB_Stanford1</td><td>11</td><td>223</td><td>1415</td><td>4.93</td><td>15.76</td><td>0.78</td></tr><tr><td>KB_Stanford2</td><td>29</td><td>384</td><td>1415</td><td>7.55</td><td>27.14</td><td>2.05</td></tr><tr><td>KB_UMass_IESL1</td><td>21</td><td>238</td><td>1415</td><td>8.82</td><td>16.82</td><td>1.48</td></tr><tr><td>KB_UMass_IESL2</td><td>21</td><td>262</td><td>1415</td><td>8.02</td><td>18.52</td><td>1.48</td></tr><tr><td>KB_UMass_IESL3</td><td>16</td><td>187</td><td>1415</td><td>8.56</td><td>13.22</td><td>1.13</td></tr><tr><td>KB_UMass_IESL4</td><td>16</td><td>203</td><td>1415</td><td>7.88</td><td>14.35</td><td>1.13</td></tr><tr><td>KB_hltcoe1</td><td>27</td><td>302</td><td>1415</td><td>8.94</td><td>21.34</td><td>1.91</td></tr><tr><td>KB_hltcoe2</td><td>27</td><td>319</td><td>1415</td><td>8.46</td><td>22.54</td><td>1.91</td></tr><tr><td>KB_hltcoe3</td><td>26</td><td>310</td><td>1415</td><td>8.39</td><td>21.91</td><td>1.84</td></tr><tr><td>KB_hltcoe4</td><td>31</td><td>331</td><td>1415</td><td>9.37</td><td>23.39</td><td>2.19</td></tr><tr><td>KB_hltcoe5</td><td>31</td><td>334</td><td>1415</td><td>9.28</td><td>23.60</td><td>2.19</td></tr><tr><td>LDC</td><td>81</td><td>280</td><td>1415</td><td>28.93</td><td>19.79</td><td>5.72</td></tr><tr><td>SF_BUPT_PRIS1</td><td>21</td><td>237</td><td>1415</td><td>8.86</td><td>16.75</td><td>1.48</td></tr><tr><td>SF_BUPT_PRIS2</td><td>18</td><td>124</td><td>1415</td><td>14.52</td><td>8.76</td><td>1.27</td></tr><tr><td>SF_BUPT_PRIS3</td><td>21</td><td>236</td><td>1415</td><td>8.90</td><td>16.68</td><td>1.48</td></tr><tr><td>SF_BUPT_PRIS4</td><td>18</td><td>124</td><td>1415</td><td>14.52</td><td>8.76</td><td>1.27</td></tr><tr><td>SF_BUPT_PRIS5</td><td>18</td><td>124</td><td>1415</td><td>14.52</td><td>8.76</td><td>1.27</td></tr><tr><td>SF_CIS1</td><td>14</td><td>161</td><td>1415</td><td>8.70</td><td>11.38</td><td>0.99</td></tr><tr><td>SF_CIS2</td><td>37</td><td>302</td><td>1415</td><td>12.25</td><td>21.34</td><td>2.61</td></tr><tr><td>SF_CIS3</td><td>47</td><td>326</td><td>1415</td><td>14.42</td><td>23.04</td><td>3.32</td></tr><tr><td>SF_CIS4</td><td>37</td><td>305</td><td>1415</td><td>12.13</td><td>21.55</td><td>2.61</td></tr><tr><td>SF_CIS5</td><td>37</td><td>282</td><td>1415</td><td>13.12</td><td>19.93</td><td>2.61</td></tr><tr><td>SF_CMUML1</td><td>1</td><td>11</td><td>1415</td><td>9.09</td><td>0.78</td><td>0.07</td></tr><tr><td>SF_CMUML2</td><td>1</td><td>10</td><td>1415</td><td>10.00</td><td>0.71</td><td>0.07</td></tr><tr><td>SF_CMUML3</td><td>1</td><td>7</td><td>1415</td><td>14.29</td><td>0.49</td><td>0.07</td></tr><tr><td>SF_IITD_20151</td><td>1</td><td>41</td><td>1415</td><td>2.44</td><td>2.90</td><td>0.07</td></tr><tr><td>SF_MSIIPL_THU1</td><td>12</td><td>107</td><td>1415</td><td>11.21</td><td>7.56</td><td>0.85</td></tr><tr><td>SF_MSIIPL_THU2</td><td>10</td><td>98</td><td>1415</td><td>10.20</td><td>6.93</td><td>0.71</td></tr><tr><td>SF_MSIIPL_THU4</td><td>1</td><td>7</td><td>1415</td><td>14.29</td><td>0.49</td><td>0.07</td></tr><tr><td>SF_MSIIPL_THU5</td><td>1</td><td>15</td><td>1415</td><td>6.67</td><td>1.06</td><td>0.07</td></tr><tr><td>SF_StaRAI20151</td><td>11</td><td>45</td><td>1415</td><td>24.44</td><td>3.18</td><td>0.78</td></tr><tr><td>SF_StaRAI20152</td><td>4</td><td>20</td><td>1415</td><td>20.00</td><td>1.41</td><td>0.28</td></tr><tr><td>SF_StaRAI20153</td><td>11</td><td>43</td><td>1415</td><td>25.58</td><td>3.04</td><td>0.78</td></tr><tr><td>SF_StaRAI20154</td><td>10</td><td>25</td><td>1415</td><td>40.00</td><td>1.77</td><td>0.71</td></tr><tr><td>SF_StaRAI20155</td><td>7</td><td>19</td><td>1415</td><td>36.84</td><td>1.34</td><td>0.49</td></tr><tr><td>SF_Stanford1</td><td>6</td><td>318</td><td>1415</td><td>1.89</td><td>22.47</td><td>0.42</td></tr><tr><td>SF_Stanford2</td><td>8</td><td>238</td><td>1415</td><td>3.36</td><td>16.82</td><td>0.57</td></tr><tr><td>SF_Stanford3</td><td>27</td><td>408</td><td>1415</td><td>6.62</td><td>28.83</td><td>1.91</td></tr><tr><td>SF_Stanford4</td><td>7</td><td>230</td><td>1415</td><td>3.04</td><td>16.25</td><td>0.49</td></tr><tr><td>SF_UGENT_IBCN1</td><td>24</td><td>321</td><td>1415</td><td>7.48</td><td>22.69</td><td>1.70</td></tr><tr><td>SF_UGENT_IBCN2</td><td>24</td><td>321</td><td>1415</td><td>7.48</td><td>22.69</td><td>1.70</td></tr><tr><td>SF_UGENT_IBCN3</td><td>24</td><td>324</td><td>1415</td><td>7.41</td><td>22.90</td><td>1.70</td></tr><tr><td>SF_UGENT_IBCN4</td><td>32</td><td>358</td><td>1415</td><td>8.94</td><td>25.30</td><td>2.26</td></tr><tr><td>SF_UMass_IESL1</td><td>23</td><td>246</td><td>1415</td><td>9.35</td><td>17.39</td><td>1.63</td></tr><tr><td>SF_UMass_IESL2</td><td>25</td><td>277</td><td>1415</td><td>9.03</td><td>19.58</td><td>1.77</td></tr><tr><td>SF_UMass_IESL3</td><td>20</td><td>268</td><td>1415</td><td>7.46</td><td>18.94</td><td>1.41</td></tr><tr><td>SF_UMass_IESL4</td><td>18</td><td>211</td><td>1415</td><td>8.53</td><td>14.91</td><td>1.27</td></tr><tr><td>SF_UMass_IESL5</td><td>19</td><td>224</td><td>1415</td><td>8.48</td><td>15.83</td><td>1.34</td></tr><tr><td>SF_UTAustin1</td><td>0</td><td>203</td><td>1415</td><td>0.00</td><td>14.35</td><td>0.00</td></tr><tr><td>SF_UWashington1</td><td>29</td><td>164</td><td>1415</td><td>17.68</td><td>11.59</td><td>2.05</td></tr><tr><td>SF_UWashington2</td><td>0</td><td>54</td><td>1415</td><td>0.00</td><td>3.82</td><td>0.00</td></tr><tr><td>SF_UWashington3</td><td>30</td><td>79</td><td>1415</td><td>37.97</td><td>5.58</td><td>2.12</td></tr><tr><td>SF_UWashington4</td><td>0</td><td>54</td><td>1415</td><td>0.00</td><td>3.82</td><td>0.00</td></tr><tr><td>SF_ZJU_DCD_SF1</td><td>12</td><td>82</td><td>1415</td><td>14.63</td><td>5.80</td><td>0.85</td></tr><tr><td>SF_ZJU_DCD_SF2</td><td>5</td><td>63</td><td>1415</td><td>7.94</td><td>4.45</td><td>0.35</td></tr><tr><td>total</td><td>1506</td><td>14226</td><td>1415</td><td>10.59</td><td>1005.37</td><td>106.43</td></tr></table>"
      ],
      "text/plain": [
       "<IPython.core.display.HTML object>"
      ]
     },
     "metadata": {},
     "output_type": "display_data"
    }
   ],
   "source": [
    "tbl = []\n",
    "for run_id, vs in per_system_true_output_by_id.items():\n",
    "    diff = set(vs)\n",
    "    for run_id_, vs_ in per_system_true_output_by_id.items():\n",
    "        if get_system_name(run_id_) != get_system_name(run_id):\n",
    "            diff.difference_update(vs_)\n",
    "    tbl.append([run_id, len(diff), len(vs)])\n",
    "tbl.append([\"total\", sum(d for _, d, _ in tbl), sum(s for _, _, s in tbl)])\n",
    "t = len(gold_labels_by_id[True])\n",
    "tbl = [(run_id, d, s, t, \"%.2f\"%(100*d/s), \"%.2f\"%(100*s/t), \"%.2f\"%(100*d/t)) for (run_id, d, s) in tbl]\n",
    "to_table(sorted(tbl), cols=\"run_id unique system total unique% system% unique_total%\".split())"
   ]
  },
  {
   "cell_type": "code",
   "execution_count": null,
   "metadata": {
    "collapsed": true
   },
   "outputs": [],
   "source": []
  }
 ],
 "metadata": {
  "kernelspec": {
   "display_name": "Python 3",
   "language": "python",
   "name": "python3"
  },
  "language_info": {
   "codemirror_mode": {
    "name": "ipython",
    "version": 3
   },
   "file_extension": ".py",
   "mimetype": "text/x-python",
   "name": "python",
   "nbconvert_exporter": "python",
   "pygments_lexer": "ipython3",
   "version": "3.5.1"
  }
 },
 "nbformat": 4,
 "nbformat_minor": 0
}
